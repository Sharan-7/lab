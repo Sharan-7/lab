{
  "nbformat": 4,
  "nbformat_minor": 0,
  "metadata": {
    "colab": {
      "provenance": []
    },
    "kernelspec": {
      "name": "python3",
      "display_name": "Python 3"
    },
    "language_info": {
      "name": "python"
    }
  },
  "cells": [
    {
      "cell_type": "code",
      "execution_count": 1,
      "metadata": {
        "id": "7cfQKRIFsZZy"
      },
      "outputs": [],
      "source": [
        "import numpy as np\n",
        "import pandas as pd\n",
        "from matplotlib import pyplot as plt\n",
        "from google.colab import files"
      ]
    },
    {
      "cell_type": "code",
      "source": [
        "upload=files.upload()"
      ],
      "metadata": {
        "colab": {
          "base_uri": "https://localhost:8080/",
          "height": 73
        },
        "id": "7nLrJ1hNslWU",
        "outputId": "a538e0df-d685-45ef-a55f-38a0d77a68ec"
      },
      "execution_count": null,
      "outputs": [
        {
          "output_type": "display_data",
          "data": {
            "text/plain": [
              "<IPython.core.display.HTML object>"
            ],
            "text/html": [
              "\n",
              "     <input type=\"file\" id=\"files-055fcc78-c26b-4f95-9824-0379c22d85d8\" name=\"files[]\" multiple disabled\n",
              "        style=\"border:none\" />\n",
              "     <output id=\"result-055fcc78-c26b-4f95-9824-0379c22d85d8\">\n",
              "      Upload widget is only available when the cell has been executed in the\n",
              "      current browser session. Please rerun this cell to enable.\n",
              "      </output>\n",
              "      <script>// Copyright 2017 Google LLC\n",
              "//\n",
              "// Licensed under the Apache License, Version 2.0 (the \"License\");\n",
              "// you may not use this file except in compliance with the License.\n",
              "// You may obtain a copy of the License at\n",
              "//\n",
              "//      http://www.apache.org/licenses/LICENSE-2.0\n",
              "//\n",
              "// Unless required by applicable law or agreed to in writing, software\n",
              "// distributed under the License is distributed on an \"AS IS\" BASIS,\n",
              "// WITHOUT WARRANTIES OR CONDITIONS OF ANY KIND, either express or implied.\n",
              "// See the License for the specific language governing permissions and\n",
              "// limitations under the License.\n",
              "\n",
              "/**\n",
              " * @fileoverview Helpers for google.colab Python module.\n",
              " */\n",
              "(function(scope) {\n",
              "function span(text, styleAttributes = {}) {\n",
              "  const element = document.createElement('span');\n",
              "  element.textContent = text;\n",
              "  for (const key of Object.keys(styleAttributes)) {\n",
              "    element.style[key] = styleAttributes[key];\n",
              "  }\n",
              "  return element;\n",
              "}\n",
              "\n",
              "// Max number of bytes which will be uploaded at a time.\n",
              "const MAX_PAYLOAD_SIZE = 100 * 1024;\n",
              "\n",
              "function _uploadFiles(inputId, outputId) {\n",
              "  const steps = uploadFilesStep(inputId, outputId);\n",
              "  const outputElement = document.getElementById(outputId);\n",
              "  // Cache steps on the outputElement to make it available for the next call\n",
              "  // to uploadFilesContinue from Python.\n",
              "  outputElement.steps = steps;\n",
              "\n",
              "  return _uploadFilesContinue(outputId);\n",
              "}\n",
              "\n",
              "// This is roughly an async generator (not supported in the browser yet),\n",
              "// where there are multiple asynchronous steps and the Python side is going\n",
              "// to poll for completion of each step.\n",
              "// This uses a Promise to block the python side on completion of each step,\n",
              "// then passes the result of the previous step as the input to the next step.\n",
              "function _uploadFilesContinue(outputId) {\n",
              "  const outputElement = document.getElementById(outputId);\n",
              "  const steps = outputElement.steps;\n",
              "\n",
              "  const next = steps.next(outputElement.lastPromiseValue);\n",
              "  return Promise.resolve(next.value.promise).then((value) => {\n",
              "    // Cache the last promise value to make it available to the next\n",
              "    // step of the generator.\n",
              "    outputElement.lastPromiseValue = value;\n",
              "    return next.value.response;\n",
              "  });\n",
              "}\n",
              "\n",
              "/**\n",
              " * Generator function which is called between each async step of the upload\n",
              " * process.\n",
              " * @param {string} inputId Element ID of the input file picker element.\n",
              " * @param {string} outputId Element ID of the output display.\n",
              " * @return {!Iterable<!Object>} Iterable of next steps.\n",
              " */\n",
              "function* uploadFilesStep(inputId, outputId) {\n",
              "  const inputElement = document.getElementById(inputId);\n",
              "  inputElement.disabled = false;\n",
              "\n",
              "  const outputElement = document.getElementById(outputId);\n",
              "  outputElement.innerHTML = '';\n",
              "\n",
              "  const pickedPromise = new Promise((resolve) => {\n",
              "    inputElement.addEventListener('change', (e) => {\n",
              "      resolve(e.target.files);\n",
              "    });\n",
              "  });\n",
              "\n",
              "  const cancel = document.createElement('button');\n",
              "  inputElement.parentElement.appendChild(cancel);\n",
              "  cancel.textContent = 'Cancel upload';\n",
              "  const cancelPromise = new Promise((resolve) => {\n",
              "    cancel.onclick = () => {\n",
              "      resolve(null);\n",
              "    };\n",
              "  });\n",
              "\n",
              "  // Wait for the user to pick the files.\n",
              "  const files = yield {\n",
              "    promise: Promise.race([pickedPromise, cancelPromise]),\n",
              "    response: {\n",
              "      action: 'starting',\n",
              "    }\n",
              "  };\n",
              "\n",
              "  cancel.remove();\n",
              "\n",
              "  // Disable the input element since further picks are not allowed.\n",
              "  inputElement.disabled = true;\n",
              "\n",
              "  if (!files) {\n",
              "    return {\n",
              "      response: {\n",
              "        action: 'complete',\n",
              "      }\n",
              "    };\n",
              "  }\n",
              "\n",
              "  for (const file of files) {\n",
              "    const li = document.createElement('li');\n",
              "    li.append(span(file.name, {fontWeight: 'bold'}));\n",
              "    li.append(span(\n",
              "        `(${file.type || 'n/a'}) - ${file.size} bytes, ` +\n",
              "        `last modified: ${\n",
              "            file.lastModifiedDate ? file.lastModifiedDate.toLocaleDateString() :\n",
              "                                    'n/a'} - `));\n",
              "    const percent = span('0% done');\n",
              "    li.appendChild(percent);\n",
              "\n",
              "    outputElement.appendChild(li);\n",
              "\n",
              "    const fileDataPromise = new Promise((resolve) => {\n",
              "      const reader = new FileReader();\n",
              "      reader.onload = (e) => {\n",
              "        resolve(e.target.result);\n",
              "      };\n",
              "      reader.readAsArrayBuffer(file);\n",
              "    });\n",
              "    // Wait for the data to be ready.\n",
              "    let fileData = yield {\n",
              "      promise: fileDataPromise,\n",
              "      response: {\n",
              "        action: 'continue',\n",
              "      }\n",
              "    };\n",
              "\n",
              "    // Use a chunked sending to avoid message size limits. See b/62115660.\n",
              "    let position = 0;\n",
              "    do {\n",
              "      const length = Math.min(fileData.byteLength - position, MAX_PAYLOAD_SIZE);\n",
              "      const chunk = new Uint8Array(fileData, position, length);\n",
              "      position += length;\n",
              "\n",
              "      const base64 = btoa(String.fromCharCode.apply(null, chunk));\n",
              "      yield {\n",
              "        response: {\n",
              "          action: 'append',\n",
              "          file: file.name,\n",
              "          data: base64,\n",
              "        },\n",
              "      };\n",
              "\n",
              "      let percentDone = fileData.byteLength === 0 ?\n",
              "          100 :\n",
              "          Math.round((position / fileData.byteLength) * 100);\n",
              "      percent.textContent = `${percentDone}% done`;\n",
              "\n",
              "    } while (position < fileData.byteLength);\n",
              "  }\n",
              "\n",
              "  // All done.\n",
              "  yield {\n",
              "    response: {\n",
              "      action: 'complete',\n",
              "    }\n",
              "  };\n",
              "}\n",
              "\n",
              "scope.google = scope.google || {};\n",
              "scope.google.colab = scope.google.colab || {};\n",
              "scope.google.colab._files = {\n",
              "  _uploadFiles,\n",
              "  _uploadFilesContinue,\n",
              "};\n",
              "})(self);\n",
              "</script> "
            ]
          },
          "metadata": {}
        },
        {
          "output_type": "stream",
          "name": "stdout",
          "text": [
            "Saving train.csv to train.csv\n"
          ]
        }
      ]
    },
    {
      "cell_type": "code",
      "source": [
        "data = pd.read_csv('train.csv')"
      ],
      "metadata": {
        "id": "jfJiWbN4soYd"
      },
      "execution_count": null,
      "outputs": []
    },
    {
      "cell_type": "code",
      "source": [
        "data = np.array(data)\n",
        "m, n = data.shape\n",
        "np.random.shuffle(data) # shuffle before splitting into dev and training sets\n"
      ],
      "metadata": {
        "id": "XURU6aLWsqz3"
      },
      "execution_count": null,
      "outputs": []
    },
    {
      "cell_type": "code",
      "source": [
        "data_dev = data[0:1000].T\n",
        "Y_dev = data_dev[0]\n",
        "X_dev = data_dev[1:n]\n",
        "X_dev = X_dev / 255."
      ],
      "metadata": {
        "id": "rcfWaeubstTs"
      },
      "execution_count": null,
      "outputs": []
    },
    {
      "cell_type": "code",
      "source": [
        "data_train = data[1000:m].T\n",
        "Y_train = data_train[0]\n",
        "X_train = data_train[1:n]\n",
        "X_train = X_train / 255.\n",
        "_,m_train = X_train.shape\n"
      ],
      "metadata": {
        "id": "lBTkVjE-sv2q"
      },
      "execution_count": null,
      "outputs": []
    },
    {
      "cell_type": "code",
      "source": [
        "def init_params():\n",
        "    W1 = np.random.rand(10, 784) - 0.5\n",
        "    b1 = np.random.rand(10, 1) - 0.5\n",
        "    W2 = np.random.rand(10, 10) - 0.5\n",
        "    b2 = np.random.rand(10, 1) - 0.5\n",
        "    return W1, b1, W2, b2"
      ],
      "metadata": {
        "id": "lc1jgDiRsyZd"
      },
      "execution_count": null,
      "outputs": []
    },
    {
      "cell_type": "code",
      "source": [
        "def ReLU(Z):\n",
        "    return np.maximum(Z, 0)"
      ],
      "metadata": {
        "id": "ac47Go-Ss0uG"
      },
      "execution_count": null,
      "outputs": []
    },
    {
      "cell_type": "code",
      "source": [
        "def softmax(Z):\n",
        "    A = np.exp(Z) / sum(np.exp(Z))\n",
        "    return A"
      ],
      "metadata": {
        "id": "kH0luWh8s2_h"
      },
      "execution_count": null,
      "outputs": []
    },
    {
      "cell_type": "code",
      "source": [
        "def forward_prop(W1, b1, W2, b2, X):\n",
        "    Z1 = W1.dot(X) + b1\n",
        "    A1 = ReLU(Z1)\n",
        "    Z2 = W2.dot(A1) + b2\n",
        "    A2 = softmax(Z2)\n",
        "    return Z1, A1, Z2, A2"
      ],
      "metadata": {
        "id": "EUWaPSpos5BC"
      },
      "execution_count": null,
      "outputs": []
    },
    {
      "cell_type": "code",
      "source": [
        "def ReLU_deriv(Z):\n",
        "    return Z > 0"
      ],
      "metadata": {
        "id": "7MbVW-WEtHAx"
      },
      "execution_count": null,
      "outputs": []
    },
    {
      "cell_type": "code",
      "source": [
        "def one_hot(Y):\n",
        "    one_hot_Y = np.zeros((Y.size, Y.max() + 1))\n",
        "    one_hot_Y[np.arange(Y.size), Y] = 1\n",
        "    one_hot_Y = one_hot_Y.T\n",
        "    return one_hot_Y"
      ],
      "metadata": {
        "id": "4Hfsp0x8tIwL"
      },
      "execution_count": null,
      "outputs": []
    },
    {
      "cell_type": "code",
      "source": [
        "def backward_prop(Z1, A1, Z2, A2, W1, W2, X, Y):\n",
        "    one_hot_Y = one_hot(Y)\n",
        "    dZ2 = A2 - one_hot_Y\n",
        "    dW2 = 1 / m * dZ2.dot(A1.T)\n",
        "    db2 = 1 / m * np.sum(dZ2)\n",
        "    dZ1 = W2.T.dot(dZ2) * ReLU_deriv(Z1)\n",
        "    dW1 = 1 / m * dZ1.dot(X.T)\n",
        "    db1 = 1 / m * np.sum(dZ1)\n",
        "    return dW1, db1, dW2, db2"
      ],
      "metadata": {
        "id": "RiVTLdVytLQe"
      },
      "execution_count": null,
      "outputs": []
    },
    {
      "cell_type": "code",
      "source": [
        "def update_params(W1, b1, W2, b2, dW1, db1, dW2, db2, alpha):\n",
        "    W1 = W1 - alpha * dW1\n",
        "    b1 = b1 - alpha * db1    \n",
        "    W2 = W2 - alpha * dW2  \n",
        "    b2 = b2 - alpha * db2    \n",
        "    return W1, b1, W2, b2"
      ],
      "metadata": {
        "id": "yNRw1QHZtNTB"
      },
      "execution_count": null,
      "outputs": []
    },
    {
      "cell_type": "code",
      "source": [
        "def get_predictions(A2):\n",
        "    return np.argmax(A2, 0)"
      ],
      "metadata": {
        "id": "NLmk21UvtPMz"
      },
      "execution_count": null,
      "outputs": []
    },
    {
      "cell_type": "code",
      "source": [
        "def get_accuracy(predictions, Y):\n",
        "    print(predictions, Y)\n",
        "    return np.sum(predictions == Y) / Y.size"
      ],
      "metadata": {
        "id": "Xxhm2M3ltRD0"
      },
      "execution_count": null,
      "outputs": []
    },
    {
      "cell_type": "code",
      "source": [
        "def gradient_descent(X, Y, alpha, iterations):\n",
        "    W1, b1, W2, b2 = init_params()\n",
        "    for i in range(iterations):\n",
        "        Z1, A1, Z2, A2 = forward_prop(W1, b1, W2, b2, X)\n",
        "        dW1, db1, dW2, db2 = backward_prop(Z1, A1, Z2, A2, W1, W2, X, Y)\n",
        "        W1, b1, W2, b2 = update_params(W1, b1, W2, b2, dW1, db1, dW2, db2, alpha)\n",
        "        if i % 10 == 0:\n",
        "            print(\"Iteration: \", i)\n",
        "            predictions = get_predictions(A2)\n",
        "            print(get_accuracy(predictions, Y))\n",
        "    return W1, b1, W2, b2"
      ],
      "metadata": {
        "id": "sm8GRzxbtTTr"
      },
      "execution_count": null,
      "outputs": []
    },
    {
      "cell_type": "code",
      "source": [
        "W1, b1, W2, b2 = gradient_descent(X_train, Y_train, 0.10, 500)"
      ],
      "metadata": {
        "colab": {
          "base_uri": "https://localhost:8080/"
        },
        "id": "ZtBkEmzhtVVW",
        "outputId": "b9950cc6-c2d5-403e-dd61-22ce0b8b655d"
      },
      "execution_count": null,
      "outputs": [
        {
          "output_type": "stream",
          "name": "stdout",
          "text": [
            "Iteration:  0\n",
            "[6 3 9 ... 6 0 4] [1 8 1 ... 3 0 8]\n",
            "0.08385365853658537\n",
            "Iteration:  10\n",
            "[3 3 3 ... 8 0 8] [1 8 1 ... 3 0 8]\n",
            "0.16458536585365854\n",
            "Iteration:  20\n",
            "[3 3 3 ... 8 0 8] [1 8 1 ... 3 0 8]\n",
            "0.24314634146341463\n",
            "Iteration:  30\n",
            "[3 3 3 ... 0 0 8] [1 8 1 ... 3 0 8]\n",
            "0.31370731707317073\n",
            "Iteration:  40\n",
            "[3 3 1 ... 0 0 3] [1 8 1 ... 3 0 8]\n",
            "0.3857317073170732\n",
            "Iteration:  50\n",
            "[3 3 1 ... 0 0 3] [1 8 1 ... 3 0 8]\n",
            "0.43617073170731707\n",
            "Iteration:  60\n",
            "[3 3 1 ... 3 0 3] [1 8 1 ... 3 0 8]\n",
            "0.46948780487804875\n",
            "Iteration:  70\n",
            "[1 3 1 ... 3 0 3] [1 8 1 ... 3 0 8]\n",
            "0.4966829268292683\n",
            "Iteration:  80\n",
            "[1 3 1 ... 3 0 0] [1 8 1 ... 3 0 8]\n",
            "0.5219268292682927\n",
            "Iteration:  90\n",
            "[1 3 1 ... 3 0 0] [1 8 1 ... 3 0 8]\n",
            "0.5420975609756098\n",
            "Iteration:  100\n",
            "[1 8 1 ... 3 0 0] [1 8 1 ... 3 0 8]\n",
            "0.561\n",
            "Iteration:  110\n",
            "[1 8 1 ... 3 0 0] [1 8 1 ... 3 0 8]\n",
            "0.5761951219512195\n",
            "Iteration:  120\n",
            "[1 8 1 ... 3 0 0] [1 8 1 ... 3 0 8]\n",
            "0.5903414634146341\n",
            "Iteration:  130\n",
            "[1 8 1 ... 3 0 0] [1 8 1 ... 3 0 8]\n",
            "0.6020731707317073\n",
            "Iteration:  140\n",
            "[1 8 1 ... 3 0 0] [1 8 1 ... 3 0 8]\n",
            "0.6128292682926829\n",
            "Iteration:  150\n",
            "[1 8 1 ... 3 0 3] [1 8 1 ... 3 0 8]\n",
            "0.6220243902439024\n",
            "Iteration:  160\n",
            "[1 8 1 ... 3 0 3] [1 8 1 ... 3 0 8]\n",
            "0.6332682926829268\n",
            "Iteration:  170\n",
            "[1 8 1 ... 3 0 3] [1 8 1 ... 3 0 8]\n",
            "0.643390243902439\n",
            "Iteration:  180\n",
            "[1 8 1 ... 3 0 3] [1 8 1 ... 3 0 8]\n",
            "0.6508780487804878\n",
            "Iteration:  190\n",
            "[1 8 1 ... 3 0 3] [1 8 1 ... 3 0 8]\n",
            "0.6595853658536586\n",
            "Iteration:  200\n",
            "[1 8 1 ... 3 0 3] [1 8 1 ... 3 0 8]\n",
            "0.6668780487804878\n",
            "Iteration:  210\n",
            "[1 8 1 ... 3 0 3] [1 8 1 ... 3 0 8]\n",
            "0.673439024390244\n",
            "Iteration:  220\n",
            "[1 8 1 ... 3 0 3] [1 8 1 ... 3 0 8]\n",
            "0.6804878048780488\n",
            "Iteration:  230\n",
            "[1 8 1 ... 3 0 3] [1 8 1 ... 3 0 8]\n",
            "0.6876341463414634\n",
            "Iteration:  240\n",
            "[1 8 1 ... 3 0 3] [1 8 1 ... 3 0 8]\n",
            "0.6938536585365853\n",
            "Iteration:  250\n",
            "[1 8 1 ... 3 0 3] [1 8 1 ... 3 0 8]\n",
            "0.6994146341463414\n",
            "Iteration:  260\n",
            "[1 8 1 ... 3 0 3] [1 8 1 ... 3 0 8]\n",
            "0.7052682926829268\n",
            "Iteration:  270\n",
            "[1 8 1 ... 3 0 3] [1 8 1 ... 3 0 8]\n",
            "0.7108048780487805\n",
            "Iteration:  280\n",
            "[1 8 1 ... 3 0 3] [1 8 1 ... 3 0 8]\n",
            "0.7162195121951219\n",
            "Iteration:  290\n",
            "[1 8 1 ... 3 0 3] [1 8 1 ... 3 0 8]\n",
            "0.721170731707317\n",
            "Iteration:  300\n",
            "[1 8 1 ... 3 0 3] [1 8 1 ... 3 0 8]\n",
            "0.7264390243902439\n",
            "Iteration:  310\n",
            "[1 8 1 ... 3 0 3] [1 8 1 ... 3 0 8]\n",
            "0.7309024390243902\n",
            "Iteration:  320\n",
            "[1 8 1 ... 3 0 3] [1 8 1 ... 3 0 8]\n",
            "0.7350975609756097\n",
            "Iteration:  330\n",
            "[1 8 1 ... 3 0 3] [1 8 1 ... 3 0 8]\n",
            "0.7391951219512195\n",
            "Iteration:  340\n",
            "[1 8 1 ... 3 0 3] [1 8 1 ... 3 0 8]\n",
            "0.7425609756097561\n",
            "Iteration:  350\n",
            "[1 8 1 ... 3 0 3] [1 8 1 ... 3 0 8]\n",
            "0.7458292682926829\n",
            "Iteration:  360\n",
            "[1 8 1 ... 3 0 3] [1 8 1 ... 3 0 8]\n",
            "0.7498292682926829\n",
            "Iteration:  370\n",
            "[1 8 1 ... 3 0 3] [1 8 1 ... 3 0 8]\n",
            "0.7538536585365854\n",
            "Iteration:  380\n",
            "[1 8 1 ... 3 0 3] [1 8 1 ... 3 0 8]\n",
            "0.7572682926829268\n",
            "Iteration:  390\n",
            "[1 8 1 ... 3 0 3] [1 8 1 ... 3 0 8]\n",
            "0.7602926829268293\n",
            "Iteration:  400\n",
            "[1 8 1 ... 3 0 3] [1 8 1 ... 3 0 8]\n",
            "0.7635853658536585\n",
            "Iteration:  410\n",
            "[1 8 1 ... 3 0 3] [1 8 1 ... 3 0 8]\n",
            "0.7666341463414634\n",
            "Iteration:  420\n",
            "[1 8 1 ... 3 0 3] [1 8 1 ... 3 0 8]\n",
            "0.7694634146341464\n",
            "Iteration:  430\n",
            "[1 8 1 ... 3 0 3] [1 8 1 ... 3 0 8]\n",
            "0.7729268292682927\n",
            "Iteration:  440\n",
            "[1 8 1 ... 3 0 3] [1 8 1 ... 3 0 8]\n",
            "0.7764146341463415\n",
            "Iteration:  450\n",
            "[1 8 1 ... 3 0 3] [1 8 1 ... 3 0 8]\n",
            "0.779609756097561\n",
            "Iteration:  460\n",
            "[1 8 1 ... 3 0 3] [1 8 1 ... 3 0 8]\n",
            "0.7825365853658537\n",
            "Iteration:  470\n",
            "[1 8 1 ... 3 0 3] [1 8 1 ... 3 0 8]\n",
            "0.7855121951219513\n",
            "Iteration:  480\n",
            "[1 8 1 ... 3 0 3] [1 8 1 ... 3 0 8]\n",
            "0.7884878048780488\n",
            "Iteration:  490\n",
            "[1 8 1 ... 3 0 3] [1 8 1 ... 3 0 8]\n",
            "0.7914146341463415\n"
          ]
        }
      ]
    },
    {
      "cell_type": "code",
      "source": [
        "def make_predictions(X, W1, b1, W2, b2):\n",
        "    _, _, _, A2 = forward_prop(W1, b1, W2, b2, X)\n",
        "    predictions = get_predictions(A2)\n",
        "    return predictions"
      ],
      "metadata": {
        "id": "sdgj1MHetXnb"
      },
      "execution_count": null,
      "outputs": []
    },
    {
      "cell_type": "code",
      "source": [
        "def test_prediction(index, W1, b1, W2, b2):\n",
        "    current_image = X_train[:, index, None]\n",
        "    prediction = make_predictions(X_train[:, index, None], W1, b1, W2, b2)\n",
        "    label = Y_train[index]\n",
        "    print(\"Prediction: \", prediction)\n",
        "    print(\"Label: \", label)\n",
        "    \n",
        "    current_image = current_image.reshape((28, 28)) * 255\n",
        "    plt.gray()\n",
        "    plt.imshow(current_image, interpolation='nearest')\n",
        "    plt.show()"
      ],
      "metadata": {
        "id": "ajLC7Nk0tZeV"
      },
      "execution_count": null,
      "outputs": []
    },
    {
      "cell_type": "code",
      "source": [
        "test_prediction(0, W1, b1, W2, b2)\n",
        "test_prediction(1, W1, b1, W2, b2)\n",
        "test_prediction(2, W1, b1, W2, b2)\n",
        "test_prediction(3, W1, b1, W2, b2)\n",
        "\n",
        "dev_predictions = make_predictions(X_dev, W1, b1, W2, b2)\n",
        "get_accuracy(dev_predictions, Y_dev)"
      ],
      "metadata": {
        "colab": {
          "base_uri": "https://localhost:8080/",
          "height": 1000
        },
        "id": "h2_LebeHtdyr",
        "outputId": "89b3562a-2505-440d-da8c-d1e422f4c1d5"
      },
      "execution_count": null,
      "outputs": [
        {
          "output_type": "stream",
          "name": "stdout",
          "text": [
            "Prediction:  [1]\n",
            "Label:  1\n"
          ]
        },
        {
          "output_type": "display_data",
          "data": {
            "text/plain": [
              "<Figure size 432x288 with 1 Axes>"
            ],
            "image/png": "[encoded data removed]"
          },
          "metadata": {
            "needs_background": "light"
          }
        },
        {
          "output_type": "stream",
          "name": "stdout",
          "text": [
            "Prediction:  [8]\n",
            "Label:  8\n"
          ]
        },
        {
          "output_type": "display_data",
          "data": {
            "text/plain": [
              "<Figure size 432x288 with 1 Axes>"
            ],
            "image/png": "[encoded data removed]"
          },
          "metadata": {
            "needs_background": "light"
          }
        },
        {
          "output_type": "stream",
          "name": "stdout",
          "text": [
            "Prediction:  [1]\n",
            "Label:  1\n"
          ]
        },
        {
          "output_type": "display_data",
          "data": {
            "text/plain": [
              "<Figure size 432x288 with 1 Axes>"
            ],
            "image/png": "[encoded data removed]"
          },
          "metadata": {
            "needs_background": "light"
          }
        },
        {
          "output_type": "stream",
          "name": "stdout",
          "text": [
            "Prediction:  [1]\n",
            "Label:  1\n"
          ]
        },
        {
          "output_type": "display_data",
          "data": {
            "text/plain": [
              "<Figure size 432x288 with 1 Axes>"
            ],
            "image/png": "[encoded data removed]"
          },
          "metadata": {
            "needs_background": "light"
          }
        }
      ]
    }
  ]
}